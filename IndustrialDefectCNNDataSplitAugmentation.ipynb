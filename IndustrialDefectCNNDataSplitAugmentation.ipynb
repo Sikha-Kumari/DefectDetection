{
 "cells": [
  {
   "cell_type": "code",
   "execution_count": 2,
   "metadata": {},
   "outputs": [],
   "source": [
    "import numpy as np # linear algebra\n",
    "import pandas as pd #\n",
    "import glob\n",
    "from tensorflow.keras.preprocessing.image import load_img, img_to_array\n",
    "import csv\n",
    "import os\n"
   ]
  },
  {
   "cell_type": "code",
   "execution_count": 3,
   "metadata": {},
   "outputs": [],
   "source": [
    "\n",
    "img_size = (224, 224)\n",
    "img_array_list = []\n",
    "cls_list = []\n",
    "\n",
    "train_dir = 'input/1056lab-defect-detection/train/class'\n",
    "train_def_dir ='input/DataAugmentation/Class'\n",
    "for i in range(6):\n",
    "    x = str(i + 1)\n",
    "    img_list1 = glob.glob(train_dir + x + '/*.png')\n",
    "    for i in img_list1:\n",
    "        img = load_img(i, color_mode='grayscale', target_size=(img_size))\n",
    "        img_array = img_to_array(img) / 255\n",
    "        img_array_list.append(img_array)\n",
    "        cls_list.append(0)\n",
    "\n",
    "    img_list1 = glob.glob(train_def_dir + x + '_def/*.png')\n",
    "    for i in img_list1:\n",
    "        img = load_img(i, color_mode='grayscale', target_size=(img_size))\n",
    "        img_array = img_to_array(img) / 255\n",
    "        img_array_list.append(img_array)\n",
    "        cls_list.append(1)\n",
    "\n",
    "X_train = np.array(img_array_list)\n",
    "y_train = np.array(cls_list)"
   ]
  },
  {
   "cell_type": "code",
   "execution_count": 7,
   "metadata": {},
   "outputs": [
    {
     "data": {
      "text/plain": [
       "(12300, 224, 224, 1)"
      ]
     },
     "execution_count": 7,
     "metadata": {},
     "output_type": "execute_result"
    }
   ],
   "source": [
    "X_train.shape"
   ]
  },
  {
   "cell_type": "code",
   "execution_count": 8,
   "metadata": {},
   "outputs": [
    {
     "name": "stdout",
     "output_type": "stream",
     "text": [
      "Model: \"sequential\"\n",
      "_________________________________________________________________\n",
      "Layer (type)                 Output Shape              Param #   \n",
      "=================================================================\n",
      "conv2d (Conv2D)              (None, 222, 222, 128)     1280      \n",
      "_________________________________________________________________\n",
      "max_pooling2d (MaxPooling2D) (None, 27, 27, 128)       0         \n",
      "_________________________________________________________________\n",
      "dropout (Dropout)            (None, 27, 27, 128)       0         \n",
      "_________________________________________________________________\n",
      "conv2d_1 (Conv2D)            (None, 25, 25, 128)       147584    \n",
      "_________________________________________________________________\n",
      "max_pooling2d_1 (MaxPooling2 (None, 6, 6, 128)         0         \n",
      "_________________________________________________________________\n",
      "dropout_1 (Dropout)          (None, 6, 6, 128)         0         \n",
      "_________________________________________________________________\n",
      "flatten (Flatten)            (None, 4608)              0         \n",
      "_________________________________________________________________\n",
      "dense (Dense)                (None, 1024)              4719616   \n",
      "_________________________________________________________________\n",
      "dense_1 (Dense)              (None, 1)                 1025      \n",
      "=================================================================\n",
      "Total params: 4,869,505\n",
      "Trainable params: 4,869,505\n",
      "Non-trainable params: 0\n",
      "_________________________________________________________________\n"
     ]
    }
   ],
   "source": [
    "from tensorflow.keras.models import Sequential\n",
    "from tensorflow.keras.layers import Conv2D, MaxPooling2D, Dropout, Flatten, Dense\n",
    "import tensorflow.keras.optimizers as opt\n",
    "\n",
    "model = Sequential()\n",
    "model.add(Conv2D(filters=128, kernel_size=(3, 3), activation='relu', input_shape=(img_size[0], img_size[1], 1)))\n",
    "model.add(MaxPooling2D(pool_size=(8, 8)))\n",
    "model.add(Dropout(rate=0.5))\n",
    "\n",
    "model.add(Conv2D(filters=128, kernel_size=(3, 3), activation='relu'))\n",
    "model.add(MaxPooling2D(pool_size=(4, 4)))\n",
    "model.add(Dropout(rate=0.5))\n",
    "model.add(Flatten())\n",
    "model.add(Dense(units=1024, activation='relu'))\n",
    "\n",
    "model.add(Dense(units=1, activation='sigmoid'))\n",
    "Nadam = opt.Nadam(lr=8e-4, beta_1=0.9, beta_2=0.999, epsilon=None, schedule_decay=0.004)\n",
    "model.compile(optimizer=Nadam, loss='binary_crossentropy', metrics=['accuracy'])\n",
    "model.summary()"
   ]
  },
  {
   "cell_type": "code",
   "execution_count": 9,
   "metadata": {},
   "outputs": [
    {
     "name": "stdout",
     "output_type": "stream",
     "text": [
      "Epoch 1/10\n",
      "193/193 [==============================] - 1437s 7s/step - loss: 0.6920 - accuracy: 0.5588\n",
      "Epoch 2/10\n",
      "193/193 [==============================] - 2048s 11s/step - loss: 0.5695 - accuracy: 0.6793\n",
      "Epoch 3/10\n",
      "193/193 [==============================] - 1392s 7s/step - loss: 0.4725 - accuracy: 0.7333\n",
      "Epoch 4/10\n",
      "193/193 [==============================] - 1037s 5s/step - loss: 0.4483 - accuracy: 0.7476\n",
      "Epoch 5/10\n",
      "193/193 [==============================] - 1043s 5s/step - loss: 0.4438 - accuracy: 0.7505\n",
      "Epoch 6/10\n",
      "193/193 [==============================] - 1031s 5s/step - loss: 0.4294 - accuracy: 0.7674\n",
      "Epoch 7/10\n",
      "193/193 [==============================] - 1001s 5s/step - loss: 0.4147 - accuracy: 0.7902\n",
      "Epoch 8/10\n",
      "193/193 [==============================] - 1074s 6s/step - loss: 0.4022 - accuracy: 0.8043\n",
      "Epoch 9/10\n",
      "193/193 [==============================] - 1328s 7s/step - loss: 0.3933 - accuracy: 0.8084\n",
      "Epoch 10/10\n",
      "193/193 [==============================] - 1082s 6s/step - loss: 0.3783 - accuracy: 0.8188\n"
     ]
    },
    {
     "data": {
      "text/plain": [
       "<tensorflow.python.keras.callbacks.History at 0x1dfb02c5cf8>"
      ]
     },
     "execution_count": 9,
     "metadata": {},
     "output_type": "execute_result"
    }
   ],
   "source": [
    "from keras.utils.np_utils import to_categorical\n",
    "model.fit(X_train, y_train, epochs=10, batch_size=64)"
   ]
  },
  {
   "cell_type": "code",
   "execution_count": 12,
   "metadata": {},
   "outputs": [],
   "source": [
    "import glob\n",
    "from keras.preprocessing.image import load_img, img_to_array\n",
    "\n",
    "img_array_list = []\n",
    "\n",
    "img_list = glob.glob('input/1056lab-defect-detection/test/*.png')\n",
    "img_list.sort()\n",
    "for i in img_list:\n",
    "    img = load_img(i, color_mode='grayscale', target_size=(img_size))\n",
    "    img_array = img_to_array(img) / 255\n",
    "    img_array_list.append(img_array)\n",
    "\n",
    "X_test = np.array(img_array_list)"
   ]
  },
  {
   "cell_type": "code",
   "execution_count": 40,
   "metadata": {},
   "outputs": [],
   "source": [
    "filenames =[]\n",
    "with open('submission1.csv', 'w', newline='') as writeFile:\n",
    "    writer = csv.writer(writeFile)\n",
    "    filenames.append('filename')\n",
    "    writer.writerow(filenames)\n",
    "    for filename in os.listdir(\"input/1056lab-defect-detection/test\"):\n",
    "        filenames=[]\n",
    "        filenames.append(filename)\n",
    "        writer.writerow(filenames) \n",
    "writeFile.close()"
   ]
  },
  {
   "cell_type": "code",
   "execution_count": 41,
   "metadata": {},
   "outputs": [],
   "source": [
    "predict = model.predict(X_test)[:, 0]\n",
    "submit = pd.read_csv('submission1.csv')\n",
    "submit['defect'] = predict\n",
    "submit.to_csv('submission1.csv', index=False)"
   ]
  },
  {
   "cell_type": "code",
   "execution_count": 25,
   "metadata": {},
   "outputs": [],
   "source": []
  },
  {
   "cell_type": "code",
   "execution_count": null,
   "metadata": {},
   "outputs": [],
   "source": []
  }
 ],
 "metadata": {
  "kernelspec": {
   "display_name": "Python 3",
   "language": "python",
   "name": "python3"
  },
  "language_info": {
   "codemirror_mode": {
    "name": "ipython",
    "version": 3
   },
   "file_extension": ".py",
   "mimetype": "text/x-python",
   "name": "python",
   "nbconvert_exporter": "python",
   "pygments_lexer": "ipython3",
   "version": "3.6.10"
  }
 },
 "nbformat": 4,
 "nbformat_minor": 4
}
