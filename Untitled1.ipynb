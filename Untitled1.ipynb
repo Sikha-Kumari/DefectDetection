{
 "cells": [
  {
   "cell_type": "code",
   "execution_count": 1,
   "metadata": {},
   "outputs": [],
   "source": [
    "import tensorflow as tf\n",
    "from tensorflow.keras.models import Sequential\n",
    "from tensorflow.keras.layers import Dense, Dropout, Activation, Flatten, Conv2D, MaxPooling2D\n",
    "import pickle\n",
    "import numpy as np"
   ]
  },
  {
   "cell_type": "code",
   "execution_count": 2,
   "metadata": {},
   "outputs": [],
   "source": [
    "X= pickle.load(open(\"X.pickle\", \"rb\"))\n",
    "y= pickle.load(open(\"y.pickle\", \"rb\"))"
   ]
  },
  {
   "cell_type": "code",
   "execution_count": 3,
   "metadata": {},
   "outputs": [
    {
     "data": {
      "text/plain": [
       "array([[[255],\n",
       "        [204],\n",
       "        [168],\n",
       "        ...,\n",
       "        [157],\n",
       "        [147],\n",
       "        [169]],\n",
       "\n",
       "       [[209],\n",
       "        [179],\n",
       "        [255],\n",
       "        ...,\n",
       "        [148],\n",
       "        [130],\n",
       "        [142]],\n",
       "\n",
       "       [[196],\n",
       "        [255],\n",
       "        [255],\n",
       "        ...,\n",
       "        [175],\n",
       "        [151],\n",
       "        [158]],\n",
       "\n",
       "       ...,\n",
       "\n",
       "       [[154],\n",
       "        [127],\n",
       "        [125],\n",
       "        ...,\n",
       "        [177],\n",
       "        [176],\n",
       "        [150]],\n",
       "\n",
       "       [[168],\n",
       "        [177],\n",
       "        [181],\n",
       "        ...,\n",
       "        [134],\n",
       "        [149],\n",
       "        [177]],\n",
       "\n",
       "       [[150],\n",
       "        [162],\n",
       "        [164],\n",
       "        ...,\n",
       "        [142],\n",
       "        [147],\n",
       "        [172]]], dtype=uint8)"
      ]
     },
     "execution_count": 3,
     "metadata": {},
     "output_type": "execute_result"
    }
   ],
   "source": [
    "X[1]\n",
    "X= np.array(X/255.0)\n",
    "y = np.array(y)"
   ]
  },
  {
   "cell_type": "code",
   "execution_count": 5,
   "metadata": {},
   "outputs": [
    {
     "name": "stdout",
     "output_type": "stream",
     "text": [
      "Model: \"sequential_1\"\n",
      "_________________________________________________________________\n",
      "Layer (type)                 Output Shape              Param #   \n",
      "=================================================================\n",
      "conv2d_2 (Conv2D)            (None, 510, 510, 64)      640       \n",
      "_________________________________________________________________\n",
      "activation_3 (Activation)    (None, 510, 510, 64)      0         \n",
      "_________________________________________________________________\n",
      "max_pooling2d_2 (MaxPooling2 (None, 255, 255, 64)      0         \n",
      "_________________________________________________________________\n",
      "dropout_2 (Dropout)          (None, 255, 255, 64)      0         \n",
      "_________________________________________________________________\n",
      "conv2d_3 (Conv2D)            (None, 253, 253, 64)      36928     \n",
      "_________________________________________________________________\n",
      "activation_4 (Activation)    (None, 253, 253, 64)      0         \n",
      "_________________________________________________________________\n",
      "max_pooling2d_3 (MaxPooling2 (None, 126, 126, 64)      0         \n",
      "_________________________________________________________________\n",
      "dropout_3 (Dropout)          (None, 126, 126, 64)      0         \n",
      "_________________________________________________________________\n",
      "flatten_1 (Flatten)          (None, 1016064)           0         \n",
      "_________________________________________________________________\n",
      "dense_2 (Dense)              (None, 64)                65028160  \n",
      "_________________________________________________________________\n",
      "dense_3 (Dense)              (None, 1)                 65        \n",
      "_________________________________________________________________\n",
      "activation_5 (Activation)    (None, 1)                 0         \n",
      "=================================================================\n",
      "Total params: 65,065,793\n",
      "Trainable params: 65,065,793\n",
      "Non-trainable params: 0\n",
      "_________________________________________________________________\n"
     ]
    }
   ],
   "source": [
    "model = Sequential()\n",
    "model.add(Conv2D(64, (3, 3), input_shape= X.shape[1:]))\n",
    "model.add(Activation(\"relu\"))\n",
    "model.add(MaxPooling2D(pool_size=(2,2)))\n",
    "model.add(Dropout(rate=0.5))\n",
    "\n",
    "model.add(Conv2D(64, (3, 3)))\n",
    "model.add(Activation(\"relu\"))\n",
    "model.add(MaxPooling2D(pool_size=(2,2)))\n",
    "model.add(Dropout(rate=0.5))\n",
    "\n",
    "model.add(Flatten())\n",
    "model.add(Dense(64))\n",
    "\n",
    "model.add(Dense(1))\n",
    "model.add(Activation('sigmoid'))\n",
    "\n",
    "model.compile(loss=\"binary_crossentropy\", optimizer =\"adam\", metrics = ['accuracy'])\n",
    "model.summary()"
   ]
  },
  {
   "cell_type": "code",
   "execution_count": null,
   "metadata": {},
   "outputs": [
    {
     "name": "stdout",
     "output_type": "stream",
     "text": [
      "Epoch 1/10\n"
     ]
    }
   ],
   "source": [
    "model.fit(X, y, batch_size = 32, epochs=10, validation_split =0.2)"
   ]
  },
  {
   "cell_type": "code",
   "execution_count": null,
   "metadata": {},
   "outputs": [],
   "source": []
  }
 ],
 "metadata": {
  "kernelspec": {
   "display_name": "Python 3",
   "language": "python",
   "name": "python3"
  },
  "language_info": {
   "codemirror_mode": {
    "name": "ipython",
    "version": 3
   },
   "file_extension": ".py",
   "mimetype": "text/x-python",
   "name": "python",
   "nbconvert_exporter": "python",
   "pygments_lexer": "ipython3",
   "version": "3.6.10"
  }
 },
 "nbformat": 4,
 "nbformat_minor": 4
}
